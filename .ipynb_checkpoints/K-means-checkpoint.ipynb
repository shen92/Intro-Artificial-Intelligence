{
 "cells": [
  {
   "cell_type": "code",
   "execution_count": 18,
   "metadata": {},
   "outputs": [],
   "source": [
    "import math\n",
    "import numpy as np\n",
    "\n",
    "name = [\"TYO\", \"DEL\", \"SHA\", \"BJ\", \"MUM\", \"OSA\", \"DHK\", \"CCU\",\"SEL\"]\n",
    "cities =[[35.7, 139.7], [28.7, 77.2],[31.2,121.5],[39.9, 116.4],[19.1, 72.9],[34.7, 135.5],[23.8, 90.4],[22.6, 88.4],[37.6, 127]]\n",
    "center =[[38.0, 127.0], [27.0, 117.0]]"
   ]
  },
  {
   "cell_type": "code",
   "execution_count": 19,
   "metadata": {},
   "outputs": [
    {
     "ename": "SyntaxError",
     "evalue": "invalid syntax (<ipython-input-19-c1302c6eefdd>, line 13)",
     "output_type": "error",
     "traceback": [
      "\u001b[0;36m  File \u001b[0;32m\"<ipython-input-19-c1302c6eefdd>\"\u001b[0;36m, line \u001b[0;32m13\u001b[0m\n\u001b[0;31m    print(name[i]city, c1, c2, \"c1\")\u001b[0m\n\u001b[0m                    ^\u001b[0m\n\u001b[0;31mSyntaxError\u001b[0m\u001b[0;31m:\u001b[0m invalid syntax\n"
     ]
    }
   ],
   "source": [
    "#for i in range(2):\n",
    "i = 0\n",
    "n_c1 = []\n",
    "n_c2 = []\n",
    "p_c1 = []\n",
    "p_c2 = []\n",
    "for city in cities:\n",
    "    c1 = math.sqrt(pow((city[0]-center[0][0]),2)+pow((city[1]-center[0][1]),2))\n",
    "    c2 = math.sqrt(pow((city[0]-center[1][0]),2)+pow((city[1]-center[1][1]),2))\n",
    "    if(c1-c2)<0:\n",
    "        n_c1.append(name[i])\n",
    "        p_c1.append(city)\n",
    "        print(name[i],city, c1, c2, \"c1\")\n",
    "    else:\n",
    "        n_c2.append(name[i])\n",
    "        p_c2.append(city)\n",
    "        print(name[i],city, c1, c2, \"c2\")\n",
    "    i = i + 1\n",
    "    "
   ]
  },
  {
   "cell_type": "code",
   "execution_count": 9,
   "metadata": {},
   "outputs": [
    {
     "name": "stdout",
     "output_type": "stream",
     "text": [
      "cluster1: ['TYO', 'BJ', 'OSA', 'SEL'] \n",
      "new c1: [ 36.975 129.65 ]\n",
      "cluster2: ['DEL', 'SHA', 'MUM', 'DHK', 'CCU'] \n",
      "new c2: [25.08 90.08]\n"
     ]
    }
   ],
   "source": [
    "    carr1 = np.array(p_c1)\n",
    "    carr2 = np.array(p_c2)\n",
    "    center[0] = np.sum(carr1/len(p_c1), axis=0)\n",
    "    center[1] = np.sum(carr2/len(p_c2), axis=0)\n",
    "    print(\"cluster1:\", n_c1, \"\\nnew c1:\", center[0])\n",
    "    print(\"cluster2:\", n_c2, \"\\nnew c2:\", center[1])"
   ]
  },
  {
   "cell_type": "code",
   "execution_count": null,
   "metadata": {},
   "outputs": [],
   "source": []
  }
 ],
 "metadata": {
  "kernelspec": {
   "display_name": "Python 3",
   "language": "python",
   "name": "python3"
  },
  "language_info": {
   "codemirror_mode": {
    "name": "ipython",
    "version": 3
   },
   "file_extension": ".py",
   "mimetype": "text/x-python",
   "name": "python",
   "nbconvert_exporter": "python",
   "pygments_lexer": "ipython3",
   "version": "3.7.3"
  }
 },
 "nbformat": 4,
 "nbformat_minor": 2
}
